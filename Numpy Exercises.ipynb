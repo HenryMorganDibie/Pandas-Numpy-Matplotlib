{
 "cells": [
  {
   "cell_type": "markdown",
   "id": "86f26653",
   "metadata": {},
   "source": [
    "## Importing Numpy as np"
   ]
  },
  {
   "cell_type": "code",
   "execution_count": null,
   "id": "d328e24e",
   "metadata": {},
   "outputs": [],
   "source": [
    "import numpy as np"
   ]
  },
  {
   "cell_type": "markdown",
   "id": "58362b75",
   "metadata": {},
   "source": [
    "## Creating an Array of 10 zeros"
   ]
  },
  {
   "cell_type": "code",
   "execution_count": 7,
   "id": "a80b216f",
   "metadata": {},
   "outputs": [
    {
     "data": {
      "text/plain": [
       "array([0., 0., 0., 0., 0., 0., 0., 0., 0., 0.])"
      ]
     },
     "execution_count": 7,
     "metadata": {},
     "output_type": "execute_result"
    }
   ],
   "source": [
    "import numpy as np\n",
    "Morgan = np.zeros(10)\n",
    "Morgan"
   ]
  },
  {
   "cell_type": "code",
   "execution_count": 8,
   "id": "48931433",
   "metadata": {},
   "outputs": [],
   "source": [
    "## Creating an array of 10 ones"
   ]
  },
  {
   "cell_type": "code",
   "execution_count": 9,
   "id": "ea303dfd",
   "metadata": {},
   "outputs": [
    {
     "data": {
      "text/plain": [
       "array([1., 1., 1., 1., 1., 1., 1., 1., 1., 1.])"
      ]
     },
     "execution_count": 9,
     "metadata": {},
     "output_type": "execute_result"
    }
   ],
   "source": [
    "Morgan = np.ones(10)\n",
    "Morgan"
   ]
  },
  {
   "cell_type": "code",
   "execution_count": 10,
   "id": "53d78812",
   "metadata": {},
   "outputs": [],
   "source": [
    "## Creating an array of 10 fives"
   ]
  },
  {
   "cell_type": "code",
   "execution_count": 12,
   "id": "3c3d9bc3",
   "metadata": {},
   "outputs": [
    {
     "data": {
      "text/plain": [
       "array([5., 5., 5., 5., 5., 5., 5., 5., 5., 5.])"
      ]
     },
     "execution_count": 12,
     "metadata": {},
     "output_type": "execute_result"
    }
   ],
   "source": [
    "Morgan = np.ones(10)*5\n",
    "Morgan"
   ]
  },
  {
   "cell_type": "code",
   "execution_count": 13,
   "id": "52693fe0",
   "metadata": {},
   "outputs": [],
   "source": [
    "## Creating an array of the integers 10 to 50"
   ]
  },
  {
   "cell_type": "code",
   "execution_count": 15,
   "id": "09ecb7bb",
   "metadata": {},
   "outputs": [
    {
     "data": {
      "text/plain": [
       "array([10, 11, 12, 13, 14, 15, 16, 17, 18, 19, 20, 21, 22, 23, 24, 25, 26,\n",
       "       27, 28, 29, 30, 31, 32, 33, 34, 35, 36, 37, 38, 39, 40, 41, 42, 43,\n",
       "       44, 45, 46, 47, 48, 49, 50])"
      ]
     },
     "execution_count": 15,
     "metadata": {},
     "output_type": "execute_result"
    }
   ],
   "source": [
    "Morgan = np.arange(10,51)\n",
    "Morgan"
   ]
  },
  {
   "cell_type": "code",
   "execution_count": 16,
   "id": "a1fa86d4",
   "metadata": {},
   "outputs": [],
   "source": [
    "## Creating an array of all the even integers 10 to 50"
   ]
  },
  {
   "cell_type": "code",
   "execution_count": 18,
   "id": "12a04526",
   "metadata": {},
   "outputs": [
    {
     "data": {
      "text/plain": [
       "array([10, 12, 14, 16, 18, 20, 22, 24, 26, 28, 30, 32, 34, 36, 38, 40, 42,\n",
       "       44, 46, 48, 50])"
      ]
     },
     "execution_count": 18,
     "metadata": {},
     "output_type": "execute_result"
    }
   ],
   "source": [
    "Morgan = np.arange(10,51,2)\n",
    "Morgan"
   ]
  },
  {
   "cell_type": "code",
   "execution_count": 19,
   "id": "011e4149",
   "metadata": {},
   "outputs": [],
   "source": [
    "## Create a 3x3 matrix with values ranging from 0 to 8"
   ]
  },
  {
   "cell_type": "code",
   "execution_count": 23,
   "id": "193e7881",
   "metadata": {},
   "outputs": [
    {
     "data": {
      "text/plain": [
       "array([[0, 1, 2],\n",
       "       [3, 4, 5],\n",
       "       [6, 7, 8]])"
      ]
     },
     "execution_count": 23,
     "metadata": {},
     "output_type": "execute_result"
    }
   ],
   "source": [
    "Morgan = np.arange(0,9).reshape((3,3))\n",
    "Morgan"
   ]
  },
  {
   "cell_type": "code",
   "execution_count": 22,
   "id": "06c48669",
   "metadata": {},
   "outputs": [],
   "source": [
    "## Create a 3x3 identity matrix"
   ]
  },
  {
   "cell_type": "code",
   "execution_count": 25,
   "id": "12386423",
   "metadata": {},
   "outputs": [
    {
     "data": {
      "text/plain": [
       "array([[1., 0., 0.],\n",
       "       [0., 1., 0.],\n",
       "       [0., 0., 1.]])"
      ]
     },
     "execution_count": 25,
     "metadata": {},
     "output_type": "execute_result"
    }
   ],
   "source": [
    "Morgan = np.eye(3,3)\n",
    "Morgan"
   ]
  },
  {
   "cell_type": "code",
   "execution_count": 26,
   "id": "ad6348fe",
   "metadata": {},
   "outputs": [],
   "source": [
    "## Use Numpy to generate a random number between 0 and 1"
   ]
  },
  {
   "cell_type": "code",
   "execution_count": 29,
   "id": "631c3adc",
   "metadata": {},
   "outputs": [
    {
     "data": {
      "text/plain": [
       "array([0])"
      ]
     },
     "execution_count": 29,
     "metadata": {},
     "output_type": "execute_result"
    }
   ],
   "source": [
    "random = np.random.randint(0,1,1)\n",
    "random"
   ]
  },
  {
   "cell_type": "code",
   "execution_count": 30,
   "id": "338be964",
   "metadata": {},
   "outputs": [],
   "source": [
    "## Use Numpy to generate an array of 25 random numbers sampled from a standard normal distribution"
   ]
  },
  {
   "cell_type": "code",
   "execution_count": 33,
   "id": "7e0bb218",
   "metadata": {},
   "outputs": [
    {
     "data": {
      "text/plain": [
       "array([-1.94199011, -1.45147226,  0.40801464, -0.72301828,  0.56220696,\n",
       "       -0.87187941,  0.45248515, -0.35046083, -0.55588062,  0.33008811,\n",
       "        0.42212586,  0.01126087, -1.4100458 ,  0.90474056,  1.07389916,\n",
       "       -1.72806035, -0.65011156,  0.89003573,  0.9580059 , -1.29348355,\n",
       "        1.00093503,  0.22965732,  0.12106848,  0.58731187, -1.92582815])"
      ]
     },
     "execution_count": 33,
     "metadata": {},
     "output_type": "execute_result"
    }
   ],
   "source": [
    "random_25 = np.random.normal(0,1,25)\n",
    "random_25"
   ]
  },
  {
   "cell_type": "code",
   "execution_count": 34,
   "id": "8e43b144",
   "metadata": {},
   "outputs": [],
   "source": [
    "## Create the following matrix:"
   ]
  },
  {
   "cell_type": "code",
   "execution_count": 37,
   "id": "7046931a",
   "metadata": {},
   "outputs": [
    {
     "data": {
      "text/plain": [
       "array([[0.01, 0.02, 0.03, 0.04, 0.05, 0.06, 0.07, 0.08, 0.09, 0.1 ],\n",
       "       [0.11, 0.12, 0.13, 0.14, 0.15, 0.16, 0.17, 0.18, 0.19, 0.2 ],\n",
       "       [0.21, 0.22, 0.23, 0.24, 0.25, 0.26, 0.27, 0.28, 0.29, 0.3 ],\n",
       "       [0.31, 0.32, 0.33, 0.34, 0.35, 0.36, 0.37, 0.38, 0.39, 0.4 ],\n",
       "       [0.41, 0.42, 0.43, 0.44, 0.45, 0.46, 0.47, 0.48, 0.49, 0.5 ],\n",
       "       [0.51, 0.52, 0.53, 0.54, 0.55, 0.56, 0.57, 0.58, 0.59, 0.6 ],\n",
       "       [0.61, 0.62, 0.63, 0.64, 0.65, 0.66, 0.67, 0.68, 0.69, 0.7 ],\n",
       "       [0.71, 0.72, 0.73, 0.74, 0.75, 0.76, 0.77, 0.78, 0.79, 0.8 ],\n",
       "       [0.81, 0.82, 0.83, 0.84, 0.85, 0.86, 0.87, 0.88, 0.89, 0.9 ],\n",
       "       [0.91, 0.92, 0.93, 0.94, 0.95, 0.96, 0.97, 0.98, 0.99, 1.  ]])"
      ]
     },
     "execution_count": 37,
     "metadata": {},
     "output_type": "execute_result"
    }
   ],
   "source": [
    "Morgan = np.arange(0.01,1.01,0.01).reshape(10,10)\n",
    "Morgan"
   ]
  },
  {
   "cell_type": "code",
   "execution_count": 38,
   "id": "8dbcce5f",
   "metadata": {},
   "outputs": [],
   "source": [
    "## Create an array of 20 linearly spaced points between 0 and 1"
   ]
  },
  {
   "cell_type": "code",
   "execution_count": 39,
   "id": "da59246c",
   "metadata": {},
   "outputs": [
    {
     "data": {
      "text/plain": [
       "array([0.        , 0.05263158, 0.10526316, 0.15789474, 0.21052632,\n",
       "       0.26315789, 0.31578947, 0.36842105, 0.42105263, 0.47368421,\n",
       "       0.52631579, 0.57894737, 0.63157895, 0.68421053, 0.73684211,\n",
       "       0.78947368, 0.84210526, 0.89473684, 0.94736842, 1.        ])"
      ]
     },
     "execution_count": 39,
     "metadata": {},
     "output_type": "execute_result"
    }
   ],
   "source": [
    "Victoria = np.linspace(0,1,20)\n",
    "Victoria"
   ]
  },
  {
   "cell_type": "markdown",
   "id": "a33f0f07",
   "metadata": {},
   "source": [
    "## Numpy indexng and Selection"
   ]
  },
  {
   "cell_type": "code",
   "execution_count": 24,
   "id": "0faa7b85",
   "metadata": {},
   "outputs": [],
   "source": [
    "# Write code that reproduces the output of the cell"
   ]
  },
  {
   "cell_type": "code",
   "execution_count": 46,
   "id": "f9cd20b3",
   "metadata": {},
   "outputs": [
    {
     "data": {
      "text/plain": [
       "array([[ 1,  2,  3,  4,  5],\n",
       "       [ 6,  7,  8,  9, 10],\n",
       "       [11, 12, 13, 14, 15],\n",
       "       [16, 17, 18, 19, 20],\n",
       "       [21, 22, 23, 24, 25]])"
      ]
     },
     "execution_count": 46,
     "metadata": {},
     "output_type": "execute_result"
    }
   ],
   "source": [
    "mat = np.arange(1,26).reshape(5,5)\n",
    "mat\n"
   ]
  },
  {
   "cell_type": "code",
   "execution_count": 48,
   "id": "146f3bfa",
   "metadata": {},
   "outputs": [
    {
     "data": {
      "text/plain": [
       "array([ 5, 10, 15, 20, 25])"
      ]
     },
     "execution_count": 48,
     "metadata": {},
     "output_type": "execute_result"
    }
   ],
   "source": [
    "matt = mat[:10,4]\n",
    "matt"
   ]
  },
  {
   "cell_type": "code",
   "execution_count": 50,
   "id": "20689fda",
   "metadata": {},
   "outputs": [
    {
     "data": {
      "text/plain": [
       "array([[12, 13, 14, 15],\n",
       "       [17, 18, 19, 20],\n",
       "       [22, 23, 24, 25]])"
      ]
     },
     "execution_count": 50,
     "metadata": {},
     "output_type": "execute_result"
    }
   ],
   "source": [
    "mat = np.arange(1,26).reshape(5,5)\n",
    "mat\n",
    "matt1 = mat[2:5, 1:5]\n",
    "matt1"
   ]
  },
  {
   "cell_type": "code",
   "execution_count": 6,
   "id": "4889203a",
   "metadata": {},
   "outputs": [
    {
     "data": {
      "text/plain": [
       "20"
      ]
     },
     "execution_count": 6,
     "metadata": {},
     "output_type": "execute_result"
    }
   ],
   "source": [
    "import numpy as np\n",
    "0po997//= np.arange(1,26).reshape(5,5)\n",
    "matt1 = mat[3, 4]\n",
    "matt1"
   ]
  },
  {
   "cell_type": "code",
   "execution_count": 8,
   "id": "0916bbae",
   "metadata": {},
   "outputs": [
    {
     "data": {
      "text/plain": [
       "array([[ 2],\n",
       "       [ 7],\n",
       "       [12]])"
      ]
     },
     "execution_count": 8,
     "metadata": {},
     "output_type": "execute_result"
    }
   ],
   "source": [
    "Morgan = mat[0:3,1:2]\n",
    "Morgan"
   ]
  },
  {
   "cell_type": "code",
   "execution_count": 11,
   "id": "d44c754f",
   "metadata": {},
   "outputs": [
    {
     "data": {
      "text/plain": [
       "array([21, 22, 23, 24, 25])"
      ]
     },
     "execution_count": 11,
     "metadata": {},
     "output_type": "execute_result"
    }
   ],
   "source": [
    "M = mat[4]\n",
    "M"
   ]
  },
  {
   "cell_type": "code",
   "execution_count": 12,
   "id": "c3418d98",
   "metadata": {},
   "outputs": [
    {
     "data": {
      "text/plain": [
       "array([[16, 17, 18, 19, 20],\n",
       "       [21, 22, 23, 24, 25]])"
      ]
     },
     "execution_count": 12,
     "metadata": {},
     "output_type": "execute_result"
    }
   ],
   "source": [
    "M = mat[3:]\n",
    "M"
   ]
  },
  {
   "cell_type": "code",
   "execution_count": 13,
   "id": "c45dec12",
   "metadata": {},
   "outputs": [],
   "source": [
    "## Get the sum of all the values in mat"
   ]
  },
  {
   "cell_type": "code",
   "execution_count": 15,
   "id": "6fa9d367",
   "metadata": {},
   "outputs": [
    {
     "data": {
      "text/plain": [
       "325"
      ]
     },
     "execution_count": 15,
     "metadata": {},
     "output_type": "execute_result"
    }
   ],
   "source": [
    "m = mat.sum()\n",
    "m"
   ]
  },
  {
   "cell_type": "code",
   "execution_count": 16,
   "id": "bd3f81e0",
   "metadata": {},
   "outputs": [],
   "source": [
    "## Get the standard deviation of the values in mat"
   ]
  },
  {
   "cell_type": "code",
   "execution_count": 17,
   "id": "c384dc14",
   "metadata": {},
   "outputs": [
    {
     "data": {
      "text/plain": [
       "7.211102550927978"
      ]
     },
     "execution_count": 17,
     "metadata": {},
     "output_type": "execute_result"
    }
   ],
   "source": [
    "m = mat.std()\n",
    "m"
   ]
  },
  {
   "cell_type": "code",
   "execution_count": 18,
   "id": "1f3009d7",
   "metadata": {},
   "outputs": [],
   "source": [
    "## Get the sum of all the columns in mat"
   ]
  },
  {
   "cell_type": "code",
   "execution_count": 20,
   "id": "0017cf19",
   "metadata": {},
   "outputs": [
    {
     "data": {
      "text/plain": [
       "array([ 15,  40,  65,  90, 115])"
      ]
     },
     "execution_count": 20,
     "metadata": {},
     "output_type": "execute_result"
    }
   ],
   "source": [
    "m = mat.sum(axis=1)\n",
    "m"
   ]
  },
  {
   "cell_type": "code",
   "execution_count": 21,
   "id": "18f5b574",
   "metadata": {},
   "outputs": [],
   "source": [
    "## Get the sum of all the rows in mat"
   ]
  },
  {
   "cell_type": "code",
   "execution_count": 23,
   "id": "eb7e7799",
   "metadata": {},
   "outputs": [
    {
     "data": {
      "text/plain": [
       "array([55, 60, 65, 70, 75])"
      ]
     },
     "execution_count": 23,
     "metadata": {},
     "output_type": "execute_result"
    }
   ],
   "source": [
    "m = mat.sum(axis=0)\n",
    "m"
   ]
  },
  {
   "cell_type": "code",
   "execution_count": null,
   "id": "c08fe51d",
   "metadata": {},
   "outputs": [],
   "source": []
  }
 ],
 "metadata": {
  "kernelspec": {
   "display_name": "Python 3 (ipykernel)",
   "language": "python",
   "name": "python3"
  },
  "language_info": {
   "codemirror_mode": {
    "name": "ipython",
    "version": 3
   },
   "file_extension": ".py",
   "mimetype": "text/x-python",
   "name": "python",
   "nbconvert_exporter": "python",
   "pygments_lexer": "ipython3",
   "version": "3.9.12"
  }
 },
 "nbformat": 4,
 "nbformat_minor": 5
}
